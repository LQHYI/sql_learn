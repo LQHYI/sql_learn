{
 "cells": [
  {
   "cell_type": "markdown",
   "id": "1d9ef6b6-24a4-43ba-834a-d2f9236adc8d",
   "metadata": {},
   "source": [
    "## This notebook is for learning sqlalchemy"
   ]
  },
  {
   "cell_type": "code",
   "execution_count": null,
   "id": "d30e1cd6-b1d3-4614-a2d7-5800d4e3015b",
   "metadata": {},
   "outputs": [],
   "source": []
  }
 ],
 "metadata": {
  "kernelspec": {
   "display_name": "Python 3",
   "language": "python",
   "name": "python3"
  },
  "language_info": {
   "codemirror_mode": {
    "name": "ipython",
    "version": 3
   },
   "file_extension": ".py",
   "mimetype": "text/x-python",
   "name": "python",
   "nbconvert_exporter": "python",
   "pygments_lexer": "ipython3",
   "version": "3.9.13"
  }
 },
 "nbformat": 4,
 "nbformat_minor": 5
}
